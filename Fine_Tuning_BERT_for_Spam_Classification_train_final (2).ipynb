{
 "cells": [
  {
   "cell_type": "markdown",
   "metadata": {
    "id": "view-in-github"
   },
   "source": [
    "<a href=\"https://colab.research.google.com/github/prateekjoshi565/Fine-Tuning-BERT/blob/master/Fine_Tuning_BERT_for_Spam_Classification.ipynb\" target=\"_parent\"><img src=\"https://colab.research.google.com/assets/colab-badge.svg\" alt=\"Open In Colab\"/></a>"
   ]
  },
  {
   "cell_type": "markdown",
   "metadata": {
    "id": "OFOTiqrtNvyy"
   },
   "source": [
    "# Install Transformers Library"
   ]
  },
  {
   "cell_type": "code",
   "execution_count": null,
   "metadata": {
    "id": "1hkhc10wNrGt"
   },
   "outputs": [],
   "source": [
    "# !pip install transformers==3.0.0\n",
    "# !pip install transformers sentencepiece"
   ]
  },
  {
   "cell_type": "code",
   "execution_count": null,
   "metadata": {
    "id": "x4giRzM7NtHJ"
   },
   "outputs": [],
   "source": [
    "import numpy as np\n",
    "import pandas as pd\n",
    "import torch\n",
    "import torch.nn as nn\n",
    "from sklearn.model_selection import train_test_split\n",
    "from sklearn.metrics import classification_report\n",
    "import transformers\n",
    "from transformers import AutoModel, BertTokenizerFast\n",
    "\n",
    "# specify GPU\n",
    "device = torch.device(\"cuda\")"
   ]
  },
  {
   "cell_type": "code",
   "execution_count": null,
   "metadata": {
    "colab": {
     "base_uri": "https://localhost:8080/"
    },
    "id": "wGepEoN1XQnl",
    "outputId": "abb465c4-9923-48a1-d5e8-ec79ba3bf695"
   },
   "outputs": [
    {
     "name": "stdout",
     "output_type": "stream",
     "text": [
      "Mounted at /content/drive\n"
     ]
    }
   ],
   "source": [
    "from google.colab import drive\n",
    "drive.mount('/content/drive')"
   ]
  },
  {
   "cell_type": "markdown",
   "metadata": {
    "id": "kKd-Tj3hOMsZ"
   },
   "source": [
    "# Load Dataset"
   ]
  },
  {
   "cell_type": "code",
   "execution_count": null,
   "metadata": {
    "colab": {
     "base_uri": "https://localhost:8080/",
     "height": 419
    },
    "id": "cwJrQFQgN_BE",
    "outputId": "cbd4c558-e1a1-42bd-dd03-6fa8dbab64af"
   },
   "outputs": [
    {
     "data": {
      "text/html": [
       "<div>\n",
       "<style scoped>\n",
       "    .dataframe tbody tr th:only-of-type {\n",
       "        vertical-align: middle;\n",
       "    }\n",
       "\n",
       "    .dataframe tbody tr th {\n",
       "        vertical-align: top;\n",
       "    }\n",
       "\n",
       "    .dataframe thead th {\n",
       "        text-align: right;\n",
       "    }\n",
       "</style>\n",
       "<table border=\"1\" class=\"dataframe\">\n",
       "  <thead>\n",
       "    <tr style=\"text-align: right;\">\n",
       "      <th></th>\n",
       "      <th>text</th>\n",
       "      <th>label</th>\n",
       "    </tr>\n",
       "  </thead>\n",
       "  <tbody>\n",
       "    <tr>\n",
       "      <th>0</th>\n",
       "      <td>ยืนยันหมายเลขนัดส่งสินค้า    xd</td>\n",
       "      <td>0</td>\n",
       "    </tr>\n",
       "    <tr>\n",
       "      <th>1</th>\n",
       "      <td>product complaint  pure   แจ้งคืนสินค้ารั่วซ...</td>\n",
       "      <td>0</td>\n",
       "    </tr>\n",
       "    <tr>\n",
       "      <th>2</th>\n",
       "      <td>fwd  กิ่งใบ เอกสารเปิดหน้าบัญชี</td>\n",
       "      <td>0</td>\n",
       "    </tr>\n",
       "    <tr>\n",
       "      <th>3</th>\n",
       "      <td>ตอบกลับ  สอบถามมูลหนี้ค้างชำระ บ อินเอตร์ เอ็ก...</td>\n",
       "      <td>0</td>\n",
       "    </tr>\n",
       "    <tr>\n",
       "      <th>4</th>\n",
       "      <td>value blog   เมื่อจังหวะชีวิตไม่เท่ากัน ไม่เป็...</td>\n",
       "      <td>0</td>\n",
       "    </tr>\n",
       "    <tr>\n",
       "      <th>...</th>\n",
       "      <td>...</td>\n",
       "      <td>...</td>\n",
       "    </tr>\n",
       "    <tr>\n",
       "      <th>19460</th>\n",
       "      <td>this is the 2nd time we have tried 2 contact u...</td>\n",
       "      <td>1</td>\n",
       "    </tr>\n",
       "    <tr>\n",
       "      <th>19461</th>\n",
       "      <td>will ì_ b going to esplanade fr home?</td>\n",
       "      <td>0</td>\n",
       "    </tr>\n",
       "    <tr>\n",
       "      <th>19462</th>\n",
       "      <td>pity, * was in mood for that. so...any other s...</td>\n",
       "      <td>0</td>\n",
       "    </tr>\n",
       "    <tr>\n",
       "      <th>19463</th>\n",
       "      <td>the guy did some bitching but i acted like i'd...</td>\n",
       "      <td>0</td>\n",
       "    </tr>\n",
       "    <tr>\n",
       "      <th>19464</th>\n",
       "      <td>rofl. its true to its name</td>\n",
       "      <td>0</td>\n",
       "    </tr>\n",
       "  </tbody>\n",
       "</table>\n",
       "<p>19465 rows × 2 columns</p>\n",
       "</div>"
      ],
      "text/plain": [
       "                                                    text  label\n",
       "0                     ยืนยันหมายเลขนัดส่งสินค้า    xd         0\n",
       "1        product complaint  pure   แจ้งคืนสินค้ารั่วซ...      0\n",
       "2                        fwd  กิ่งใบ เอกสารเปิดหน้าบัญชี      0\n",
       "3      ตอบกลับ  สอบถามมูลหนี้ค้างชำระ บ อินเอตร์ เอ็ก...      0\n",
       "4      value blog   เมื่อจังหวะชีวิตไม่เท่ากัน ไม่เป็...      0\n",
       "...                                                  ...    ...\n",
       "19460  this is the 2nd time we have tried 2 contact u...      1\n",
       "19461              will ì_ b going to esplanade fr home?      0\n",
       "19462  pity, * was in mood for that. so...any other s...      0\n",
       "19463  the guy did some bitching but i acted like i'd...      0\n",
       "19464                         rofl. its true to its name      0\n",
       "\n",
       "[19465 rows x 2 columns]"
      ]
     },
     "execution_count": 8,
     "metadata": {
      "tags": []
     },
     "output_type": "execute_result"
    }
   ],
   "source": [
    "df= pd.read_csv(\n",
    "    \"/content/drive/MyDrive/subject_final.csv\")\n",
    "df"
   ]
  },
  {
   "cell_type": "code",
   "execution_count": null,
   "metadata": {
    "id": "1KR-a6hUZwo8"
   },
   "outputs": [],
   "source": [
    "df1=df.fillna('no subject')"
   ]
  },
  {
   "cell_type": "markdown",
   "metadata": {
    "id": "MKfWnApvOoE7"
   },
   "source": [
    "# Split train dataset into train, validation and test sets"
   ]
  },
  {
   "cell_type": "markdown",
   "metadata": {
    "id": "HAU8i3L_L9Or"
   },
   "source": []
  },
  {
   "cell_type": "code",
   "execution_count": null,
   "metadata": {
    "id": "mfhSPF5jOWb7"
   },
   "outputs": [],
   "source": [
    "train_text, temp_text, train_labels, temp_labels = train_test_split(df1['text'], df1['label'], \n",
    "                                                                    random_state=2018, \n",
    "                                                                    test_size=0.3, \n",
    "                                                                    stratify=df1['label'])\n",
    "\n",
    "# we will use temp_text and temp_labels to create validation and test set\n",
    "val_text, test_text, val_labels, test_labels = train_test_split(temp_text, temp_labels, \n",
    "                                                                random_state=2018, \n",
    "                                                                test_size=0.5, \n",
    "                                                                stratify=temp_labels)"
   ]
  },
  {
   "cell_type": "markdown",
   "metadata": {
    "id": "n7hsdLoCO7uB"
   },
   "source": [
    "# Import BERT Model and BERT Tokenizer"
   ]
  },
  {
   "cell_type": "code",
   "execution_count": null,
   "metadata": {
    "colab": {
     "base_uri": "https://localhost:8080/",
     "height": 164,
     "referenced_widgets": [
      "579505ca3fff49b88a3874f386cc5e2d",
      "e2d48e48721f4abdababdd36a9d3fe1b",
      "f5e4d73f6077428f822b0a70b4f7e682",
      "25e11fb0263643ad8ee2f69c9f113882",
      "f689dff5eb744f0a978de17805af08c3",
      "492427cc967c4d50bd5e21ddeed4414c",
      "51524f2fcce047beb93ee9e94adc7bee",
      "4f9aa0cc80c64408983a31883130f5f1",
      "945d970f242749cbbd595591055364d6",
      "a2af3edfeb924b409261b422eb705084",
      "a535ae16ae744b2e83c3bc81307e46dc",
      "f227be77fc4f492b9ee7fadc357d92f0",
      "952df693ad6245828ddf26c969b9beb9",
      "b30a0d52fb2441e9b32c0691ebfdcef0",
      "d437a483c20b4bfba79005c1f893c3f3",
      "3f4931c9985e4512a29a4d795786ef8b",
      "a36e42d6be2b497c959238ad17938c37",
      "d03a15f8a135497babd06e8b578e89d2",
      "96b9c9f4332246789d1efd9408b11230",
      "5b1c9d8b893245cfa3f4d69dc8c2ca16",
      "faa21fca733f406f8a09af7f728f59a0",
      "4bab13dce0aa44d787b6656225e69b43",
      "fd321e90488b4e8da17ea2606e1f6f6c",
      "41cef8c5313a4198906ebb8180e6a35d"
     ]
    },
    "id": "S1kY3gZjO2RE",
    "outputId": "6544f708-ed3b-4f2d-eb0a-5cb0edaf02a0"
   },
   "outputs": [
    {
     "data": {
      "application/vnd.jupyter.widget-view+json": {
       "model_id": "579505ca3fff49b88a3874f386cc5e2d",
       "version_major": 2,
       "version_minor": 0
      },
      "text/plain": [
       "HBox(children=(FloatProgress(value=0.0, description='Downloading', max=433.0, style=ProgressStyle(description_…"
      ]
     },
     "metadata": {
      "tags": []
     },
     "output_type": "display_data"
    },
    {
     "name": "stdout",
     "output_type": "stream",
     "text": [
      "\n"
     ]
    },
    {
     "data": {
      "application/vnd.jupyter.widget-view+json": {
       "model_id": "945d970f242749cbbd595591055364d6",
       "version_major": 2,
       "version_minor": 0
      },
      "text/plain": [
       "HBox(children=(FloatProgress(value=0.0, description='Downloading', max=440473133.0, style=ProgressStyle(descri…"
      ]
     },
     "metadata": {
      "tags": []
     },
     "output_type": "display_data"
    },
    {
     "name": "stdout",
     "output_type": "stream",
     "text": [
      "\n"
     ]
    },
    {
     "data": {
      "application/vnd.jupyter.widget-view+json": {
       "model_id": "a36e42d6be2b497c959238ad17938c37",
       "version_major": 2,
       "version_minor": 0
      },
      "text/plain": [
       "HBox(children=(FloatProgress(value=0.0, description='Downloading', max=231508.0, style=ProgressStyle(descripti…"
      ]
     },
     "metadata": {
      "tags": []
     },
     "output_type": "display_data"
    },
    {
     "name": "stdout",
     "output_type": "stream",
     "text": [
      "\n"
     ]
    }
   ],
   "source": [
    "# import BERT-base pretrained model\n",
    "bert = AutoModel.from_pretrained('bert-base-uncased')\n",
    "\n",
    "# Load the BERT tokenizer\n",
    "tokenizer = BertTokenizerFast.from_pretrained('bert-base-uncased')"
   ]
  },
  {
   "cell_type": "code",
   "execution_count": null,
   "metadata": {
    "id": "X5MR9QskgInU"
   },
   "outputs": [],
   "source": [
    "# sample data\n",
    "text = [\"this is a bert model tutorial\", \"we will fine-tune a bert model\"]\n",
    "\n",
    "# encode text\n",
    "sent_id = tokenizer.batch_encode_plus(text, padding=True, return_token_type_ids=False)"
   ]
  },
  {
   "cell_type": "markdown",
   "metadata": {
    "id": "8wIYaWI_Prg8"
   },
   "source": [
    "# Tokenization"
   ]
  },
  {
   "cell_type": "code",
   "execution_count": null,
   "metadata": {
    "colab": {
     "base_uri": "https://localhost:8080/",
     "height": 282
    },
    "id": "yKwbpeN_PMiu",
    "outputId": "0c7953bb-c6b8-4234-d89d-2caca3305393"
   },
   "outputs": [
    {
     "data": {
      "text/plain": [
       "<matplotlib.axes._subplots.AxesSubplot at 0x7fe88ed1a750>"
      ]
     },
     "execution_count": 14,
     "metadata": {
      "tags": []
     },
     "output_type": "execute_result"
    },
    {
     "data": {
      "image/png": "[encoded data removed]",
      "text/plain": [
       "<Figure size 432x288 with 1 Axes>"
      ]
     },
     "metadata": {
      "needs_background": "light",
      "tags": []
     },
     "output_type": "display_data"
    }
   ],
   "source": [
    "# get length of all the messages in the train set\n",
    "seq_len = [len(i.split()) for i in train_text]\n",
    "\n",
    "pd.Series(seq_len).hist(bins = 30)"
   ]
  },
  {
   "cell_type": "code",
   "execution_count": null,
   "metadata": {
    "id": "OXcswEIRPvGe"
   },
   "outputs": [],
   "source": [
    "max_seq_len = 30"
   ]
  },
  {
   "cell_type": "code",
   "execution_count": null,
   "metadata": {
    "id": "tk5S7DWaP2t6"
   },
   "outputs": [],
   "source": [
    "# tokenize and encode sequences in the training set\n",
    "tokens_train = tokenizer.batch_encode_plus(train_text.tolist(),\n",
    "    max_length = max_seq_len,\n",
    "    pad_to_max_length=True,\n",
    "    truncation=True,\n",
    "    return_token_type_ids=False\n",
    ")\n",
    "\n",
    "# tokenize and encode sequences in the validation set\n",
    "tokens_val = tokenizer.batch_encode_plus(\n",
    "    val_text.tolist(),\n",
    "    max_length = max_seq_len,\n",
    "    pad_to_max_length=True,\n",
    "    truncation=True,\n",
    "    return_token_type_ids=False\n",
    ")\n",
    "\n",
    "# tokenize and encode sequences in the test set\n",
    "tokens_test = tokenizer.batch_encode_plus(\n",
    "    test_text.tolist(),\n",
    "    max_length = max_seq_len,\n",
    "    pad_to_max_length=True,\n",
    "    truncation=True,\n",
    "    return_token_type_ids=False)"
   ]
  },
  {
   "cell_type": "markdown",
   "metadata": {
    "id": "Wsm8bkRZQTw9"
   },
   "source": [
    "# Convert Integer Sequences to Tensors"
   ]
  },
  {
   "cell_type": "code",
   "execution_count": null,
   "metadata": {
    "id": "5xVmk8cnumGR"
   },
   "outputs": [],
   "source": [
    "# for train set\n",
    "train_seq = torch.tensor(tokens_train['input_ids'])\n",
    "train_mask = torch.tensor(tokens_train['attention_mask'])\n",
    "train_y = torch.tensor(train_labels.tolist())\n",
    "\n",
    "# for validation set\n",
    "val_seq = torch.tensor(tokens_val['input_ids'])\n",
    "val_mask = torch.tensor(tokens_val['attention_mask'])\n",
    "val_y = torch.tensor(val_labels.tolist())\n",
    "\n",
    "# for test set\n",
    "test_seq = torch.tensor(tokens_test['input_ids'])\n",
    "test_mask = torch.tensor(tokens_test['attention_mask'])\n",
    "test_y = torch.tensor(test_labels.tolist())"
   ]
  },
  {
   "cell_type": "markdown",
   "metadata": {
    "id": "Ov1cOBlcRLuk"
   },
   "source": [
    "# Create DataLoaders"
   ]
  },
  {
   "cell_type": "code",
   "execution_count": null,
   "metadata": {
    "id": "qUy9JKFYQYLp"
   },
   "outputs": [],
   "source": [
    "from torch.utils.data import TensorDataset, DataLoader, RandomSampler, SequentialSampler\n",
    "\n",
    "#define a batch size\n",
    "batch_size = 32\n",
    "\n",
    "# wrap tensors\n",
    "train_data = TensorDataset(train_seq, train_mask, train_y)\n",
    "\n",
    "# sampler for sampling the data during training\n",
    "train_sampler = RandomSampler(train_data)\n",
    "\n",
    "# dataLoader for train set\n",
    "train_dataloader = DataLoader(train_data, sampler=train_sampler, batch_size=batch_size)\n",
    "\n",
    "# wrap tensors\n",
    "val_data = TensorDataset(val_seq, val_mask, val_y)\n",
    "\n",
    "# sampler for sampling the data during training\n",
    "val_sampler = SequentialSampler(val_data)\n",
    "\n",
    "# dataLoader for validation set\n",
    "val_dataloader = DataLoader(val_data, sampler = val_sampler, batch_size=batch_size)"
   ]
  },
  {
   "cell_type": "markdown",
   "metadata": {
    "id": "K2HZc5ZYRV28"
   },
   "source": [
    "# Freeze BERT Parameters"
   ]
  },
  {
   "cell_type": "code",
   "execution_count": null,
   "metadata": {
    "id": "wHZ0MC00RQA_"
   },
   "outputs": [],
   "source": [
    "# freeze all the parameters\n",
    "for param in bert.parameters():\n",
    "    param.requires_grad = False"
   ]
  },
  {
   "cell_type": "markdown",
   "metadata": {
    "id": "s7ahGBUWRi3X"
   },
   "source": [
    "# Define Model Architecture"
   ]
  },
  {
   "cell_type": "code",
   "execution_count": null,
   "metadata": {
    "id": "b3iEtGyYRd0A"
   },
   "outputs": [],
   "source": [
    "class BERT_Arch(nn.Module):\n",
    "\n",
    "    def __init__(self, bert):\n",
    "      \n",
    "      super(BERT_Arch, self).__init__()\n",
    "\n",
    "      self.bert = bert \n",
    "      \n",
    "      # dropout layer\n",
    "      self.dropout = nn.Dropout(0.1)\n",
    "      \n",
    "      # relu activation function\n",
    "      self.relu =  nn.ReLU()\n",
    "\n",
    "      # dense layer 1\n",
    "      self.fc1 = nn.Linear(768,512)\n",
    "      \n",
    "      # dense layer 2 (Output layer)\n",
    "      self.fc2 = nn.Linear(512,2)\n",
    "\n",
    "      #softmax activation function\n",
    "      self.softmax = nn.LogSoftmax(dim=1)\n",
    "\n",
    "    #define the forward pass\n",
    "    def forward(self, sent_id, mask):\n",
    "\n",
    "      #pass the inputs to the model  \n",
    "      _, cls_hs = self.bert(sent_id, attention_mask=mask)\n",
    "      \n",
    "      x = self.fc1(cls_hs)\n",
    "\n",
    "      x = self.relu(x)\n",
    "\n",
    "      x = self.dropout(x)\n",
    "\n",
    "      # output layer\n",
    "      x = self.fc2(x)\n",
    "      \n",
    "      # apply softmax activation\n",
    "      x = self.softmax(x)\n",
    "\n",
    "      return x"
   ]
  },
  {
   "cell_type": "code",
   "execution_count": null,
   "metadata": {
    "id": "cBAJJVuJRliv"
   },
   "outputs": [],
   "source": [
    "# pass the pre-trained BERT to our define architecture\n",
    "model = BERT_Arch(bert)\n",
    "\n",
    "# push the model to GPU\n",
    "model = model.to(device)"
   ]
  },
  {
   "cell_type": "code",
   "execution_count": null,
   "metadata": {
    "id": "taXS0IilRn9J"
   },
   "outputs": [],
   "source": [
    "# optimizer from hugging face transformers\n",
    "from transformers import AdamW\n",
    "\n",
    "# define the optimizer\n",
    "optimizer = AdamW(model.parameters(), lr = 1e-3)"
   ]
  },
  {
   "cell_type": "markdown",
   "metadata": {
    "id": "j9CDpoMQR_rK"
   },
   "source": [
    "# Find Class Weights"
   ]
  },
  {
   "cell_type": "code",
   "execution_count": null,
   "metadata": {
    "colab": {
     "base_uri": "https://localhost:8080/"
    },
    "id": "izY5xH5eR7Ur",
    "outputId": "73c6f813-2dbd-4b5f-a263-9500e5314485"
   },
   "outputs": [
    {
     "name": "stdout",
     "output_type": "stream",
     "text": [
      "[0.6318401  2.39623637]\n"
     ]
    }
   ],
   "source": [
    "from sklearn.utils.class_weight import compute_class_weight\n",
    "\n",
    "#compute the class weights\n",
    "class_wts = compute_class_weight('balanced', np.unique(train_labels), train_labels)\n",
    "\n",
    "print(class_wts)"
   ]
  },
  {
   "cell_type": "code",
   "execution_count": null,
   "metadata": {
    "id": "r1WvfY2vSGKi"
   },
   "outputs": [],
   "source": [
    "# convert class weights to tensor\n",
    "weights= torch.tensor(class_wts,dtype=torch.float) \n",
    "weights = weights.to(device)\n",
    "\n",
    "# loss function\n",
    "cross_entropy  = nn.NLLLoss(weight=weights) \n",
    "\n",
    "# number of training epochs\n",
    "epochs = 10"
   ]
  },
  {
   "cell_type": "markdown",
   "metadata": {
    "id": "My4CA0qaShLq"
   },
   "source": [
    "# Fine-Tune BERT"
   ]
  },
  {
   "cell_type": "code",
   "execution_count": null,
   "metadata": {
    "id": "rskLk8R_SahS"
   },
   "outputs": [],
   "source": [
    "# function to train the model\n",
    "def train():\n",
    "  \n",
    "  model.train()\n",
    "\n",
    "  total_loss, total_accuracy = 0, 0\n",
    "  \n",
    "  # empty list to save model predictions\n",
    "  total_preds=[]\n",
    "  \n",
    "  # iterate over batches\n",
    "  for step,batch in enumerate(train_dataloader):\n",
    "    \n",
    "    # progress update after every 50 batches.\n",
    "    if step % 50 == 0 and not step == 0:\n",
    "      print('  Batch {:>5,}  of  {:>5,}.'.format(step, len(train_dataloader)))\n",
    "\n",
    "    # push the batch to gpu\n",
    "    batch = [r.to(device) for r in batch]\n",
    " \n",
    "    sent_id, mask, labels = batch\n",
    "\n",
    "    # clear previously calculated gradients \n",
    "    model.zero_grad()        \n",
    "\n",
    "    # get model predictions for the current batch\n",
    "    preds = model(sent_id, mask)\n",
    "\n",
    "    # compute the loss between actual and predicted values\n",
    "    loss = cross_entropy(preds, labels)\n",
    "\n",
    "    # add on to the total loss\n",
    "    total_loss = total_loss + loss.item()\n",
    "\n",
    "    # backward pass to calculate the gradients\n",
    "    loss.backward()\n",
    "\n",
    "    # clip the the gradients to 1.0. It helps in preventing the exploding gradient problem\n",
    "    torch.nn.utils.clip_grad_norm_(model.parameters(), 1.0)\n",
    "\n",
    "    # update parameters\n",
    "    optimizer.step()\n",
    "\n",
    "    # model predictions are stored on GPU. So, push it to CPU\n",
    "    preds=preds.detach().cpu().numpy()\n",
    "\n",
    "    # append the model predictions\n",
    "    total_preds.append(preds)\n",
    "\n",
    "  # compute the training loss of the epoch\n",
    "  avg_loss = total_loss / len(train_dataloader)\n",
    "  \n",
    "  # predictions are in the form of (no. of batches, size of batch, no. of classes).\n",
    "  # reshape the predictions in form of (number of samples, no. of classes)\n",
    "  total_preds  = np.concatenate(total_preds, axis=0)\n",
    "\n",
    "  #returns the loss and predictions\n",
    "  return avg_loss, total_preds"
   ]
  },
  {
   "cell_type": "code",
   "execution_count": null,
   "metadata": {
    "id": "yGXovFDlSxB5"
   },
   "outputs": [],
   "source": [
    "# function for evaluating the model\n",
    "def evaluate():\n",
    "  \n",
    "  print(\"\\nEvaluating...\")\n",
    "  \n",
    "  # deactivate dropout layers\n",
    "  model.eval()\n",
    "\n",
    "  total_loss, total_accuracy = 0, 0\n",
    "  \n",
    "  # empty list to save the model predictions\n",
    "  total_preds = []\n",
    "\n",
    "  # iterate over batches\n",
    "  for step,batch in enumerate(val_dataloader):\n",
    "    \n",
    "    # Progress update every 50 batches.\n",
    "    if step % 50 == 0 and not step == 0:\n",
    "      \n",
    "      # Calculate elapsed time in minutes.\n",
    "      #elapsed = format_time(time.time() - t0)\n",
    "            \n",
    "      # Report progress.\n",
    "      print('  Batch {:>5,}  of  {:>5,}.'.format(step, len(val_dataloader)))\n",
    "\n",
    "    # push the batch to gpu\n",
    "    batch = [t.to(device) for t in batch]\n",
    "\n",
    "    sent_id, mask, labels = batch\n",
    "\n",
    "    # deactivate autograd\n",
    "    with torch.no_grad():\n",
    "      \n",
    "      # model predictions\n",
    "      preds = model(sent_id, mask)\n",
    "\n",
    "      # compute the validation loss between actual and predicted values\n",
    "      loss = cross_entropy(preds,labels)\n",
    "\n",
    "      total_loss = total_loss + loss.item()\n",
    "\n",
    "      preds = preds.detach().cpu().numpy()\n",
    "\n",
    "      total_preds.append(preds)\n",
    "\n",
    "  # compute the validation loss of the epoch\n",
    "  avg_loss = total_loss / len(val_dataloader) \n",
    "\n",
    "  # reshape the predictions in form of (number of samples, no. of classes)\n",
    "  total_preds  = np.concatenate(total_preds, axis=0)\n",
    "\n",
    "  return avg_loss, total_preds"
   ]
  },
  {
   "cell_type": "markdown",
   "metadata": {
    "id": "9KZEgxRRTLXG"
   },
   "source": [
    "# Start Model Training"
   ]
  },
  {
   "cell_type": "code",
   "execution_count": null,
   "metadata": {
    "colab": {
     "base_uri": "https://localhost:8080/"
    },
    "id": "k1USGTntS3TS",
    "outputId": "6530f1ae-fd2d-417e-a560-bbdd0901d805"
   },
   "outputs": [
    {
     "name": "stdout",
     "output_type": "stream",
     "text": [
      "\n",
      " Epoch 1 / 10\n",
      "  Batch    50  of    426.\n",
      "  Batch   100  of    426.\n",
      "  Batch   150  of    426.\n",
      "  Batch   200  of    426.\n",
      "  Batch   250  of    426.\n",
      "  Batch   300  of    426.\n",
      "  Batch   350  of    426.\n",
      "  Batch   400  of    426.\n",
      "\n",
      "Evaluating...\n",
      "  Batch    50  of     92.\n",
      "\n",
      "Training Loss: 0.374\n",
      "Validation Loss: 0.398\n",
      "\n",
      " Epoch 2 / 10\n",
      "  Batch    50  of    426.\n",
      "  Batch   100  of    426.\n",
      "  Batch   150  of    426.\n",
      "  Batch   200  of    426.\n",
      "  Batch   250  of    426.\n",
      "  Batch   300  of    426.\n",
      "  Batch   350  of    426.\n",
      "  Batch   400  of    426.\n",
      "\n",
      "Evaluating...\n",
      "  Batch    50  of     92.\n",
      "\n",
      "Training Loss: 0.341\n",
      "Validation Loss: 0.304\n",
      "\n",
      " Epoch 3 / 10\n",
      "  Batch    50  of    426.\n",
      "  Batch   100  of    426.\n",
      "  Batch   150  of    426.\n",
      "  Batch   200  of    426.\n",
      "  Batch   250  of    426.\n",
      "  Batch   300  of    426.\n",
      "  Batch   350  of    426.\n",
      "  Batch   400  of    426.\n",
      "\n",
      "Evaluating...\n",
      "  Batch    50  of     92.\n",
      "\n",
      "Training Loss: 0.337\n",
      "Validation Loss: 0.270\n",
      "\n",
      " Epoch 4 / 10\n",
      "  Batch    50  of    426.\n",
      "  Batch   100  of    426.\n",
      "  Batch   150  of    426.\n",
      "  Batch   200  of    426.\n",
      "  Batch   250  of    426.\n",
      "  Batch   300  of    426.\n",
      "  Batch   350  of    426.\n",
      "  Batch   400  of    426.\n",
      "\n",
      "Evaluating...\n",
      "  Batch    50  of     92.\n",
      "\n",
      "Training Loss: 0.314\n",
      "Validation Loss: 0.268\n",
      "\n",
      " Epoch 5 / 10\n",
      "  Batch    50  of    426.\n",
      "  Batch   100  of    426.\n",
      "  Batch   150  of    426.\n",
      "  Batch   200  of    426.\n",
      "  Batch   250  of    426.\n",
      "  Batch   300  of    426.\n",
      "  Batch   350  of    426.\n",
      "  Batch   400  of    426.\n",
      "\n",
      "Evaluating...\n",
      "  Batch    50  of     92.\n",
      "\n",
      "Training Loss: 0.312\n",
      "Validation Loss: 0.279\n",
      "\n",
      " Epoch 6 / 10\n",
      "  Batch    50  of    426.\n",
      "  Batch   100  of    426.\n",
      "  Batch   150  of    426.\n",
      "  Batch   200  of    426.\n",
      "  Batch   250  of    426.\n",
      "  Batch   300  of    426.\n",
      "  Batch   350  of    426.\n",
      "  Batch   400  of    426.\n",
      "\n",
      "Evaluating...\n",
      "  Batch    50  of     92.\n",
      "\n",
      "Training Loss: 0.306\n",
      "Validation Loss: 0.276\n",
      "\n",
      " Epoch 7 / 10\n",
      "  Batch    50  of    426.\n",
      "  Batch   100  of    426.\n",
      "  Batch   150  of    426.\n",
      "  Batch   200  of    426.\n",
      "  Batch   250  of    426.\n",
      "  Batch   300  of    426.\n",
      "  Batch   350  of    426.\n",
      "  Batch   400  of    426.\n",
      "\n",
      "Evaluating...\n",
      "  Batch    50  of     92.\n",
      "\n",
      "Training Loss: 0.303\n",
      "Validation Loss: 0.259\n",
      "\n",
      " Epoch 8 / 10\n",
      "  Batch    50  of    426.\n",
      "  Batch   100  of    426.\n",
      "  Batch   150  of    426.\n",
      "  Batch   200  of    426.\n",
      "  Batch   250  of    426.\n",
      "  Batch   300  of    426.\n",
      "  Batch   350  of    426.\n",
      "  Batch   400  of    426.\n",
      "\n",
      "Evaluating...\n",
      "  Batch    50  of     92.\n",
      "\n",
      "Training Loss: 0.278\n",
      "Validation Loss: 0.264\n",
      "\n",
      " Epoch 9 / 10\n",
      "  Batch    50  of    426.\n",
      "  Batch   100  of    426.\n",
      "  Batch   150  of    426.\n",
      "  Batch   200  of    426.\n",
      "  Batch   250  of    426.\n",
      "  Batch   300  of    426.\n",
      "  Batch   350  of    426.\n",
      "  Batch   400  of    426.\n",
      "\n",
      "Evaluating...\n",
      "  Batch    50  of     92.\n",
      "\n",
      "Training Loss: 0.278\n",
      "Validation Loss: 0.306\n",
      "\n",
      " Epoch 10 / 10\n",
      "  Batch    50  of    426.\n",
      "  Batch   100  of    426.\n",
      "  Batch   150  of    426.\n",
      "  Batch   200  of    426.\n",
      "  Batch   250  of    426.\n",
      "  Batch   300  of    426.\n",
      "  Batch   350  of    426.\n",
      "  Batch   400  of    426.\n",
      "\n",
      "Evaluating...\n",
      "  Batch    50  of     92.\n",
      "\n",
      "Training Loss: 0.285\n",
      "Validation Loss: 0.244\n"
     ]
    }
   ],
   "source": [
    "# set initial loss to infinite\n",
    "best_valid_loss = float('inf')\n",
    "\n",
    "# empty lists to store training and validation loss of each epoch\n",
    "train_losses=[]\n",
    "valid_losses=[]\n",
    "\n",
    "#for each epoch\n",
    "for epoch in range(epochs):\n",
    "     \n",
    "    print('\\n Epoch {:} / {:}'.format(epoch + 1, epochs))\n",
    "    \n",
    "    #train model\n",
    "    train_loss, _ = train()\n",
    "    \n",
    "    #evaluate model\n",
    "    valid_loss, _ = evaluate()\n",
    "    \n",
    "    #save the best model\n",
    "    if valid_loss < best_valid_loss:\n",
    "        best_valid_loss = valid_loss\n",
    "        model_save_name = 'saved_weights.pt'\n",
    "        path = F\"/content/drive/MyDrive/Colab Notebooks/{model_save_name}\" \n",
    "        torch.save(model.state_dict(), path)\n",
    "    \n",
    "    # append training and validation loss\n",
    "    train_losses.append(train_loss)\n",
    "    valid_losses.append(valid_loss)\n",
    "    \n",
    "    print(f'\\nTraining Loss: {train_loss:.3f}')\n",
    "    print(f'Validation Loss: {valid_loss:.3f}')"
   ]
  },
  {
   "cell_type": "markdown",
   "metadata": {
    "id": "_yrhUc9kTI5a"
   },
   "source": [
    "# Load Saved Model"
   ]
  },
  {
   "cell_type": "code",
   "execution_count": null,
   "metadata": {
    "colab": {
     "base_uri": "https://localhost:8080/"
    },
    "id": "OacxUyizS8d1",
    "outputId": "d29ad762-e89e-49a4-8470-edea993066ae"
   },
   "outputs": [
    {
     "data": {
      "text/plain": [
       "<All keys matched successfully>"
      ]
     },
     "execution_count": 115,
     "metadata": {
      "tags": []
     },
     "output_type": "execute_result"
    }
   ],
   "source": [
    "#load weights of best model\n",
    "path = 'saved_weights.pt'\n",
    "model.load_state_dict(torch.load(path))"
   ]
  },
  {
   "cell_type": "markdown",
   "metadata": {
    "id": "x4SVftkkTZXA"
   },
   "source": [
    "# Get Predictions for Test Data"
   ]
  },
  {
   "cell_type": "code",
   "execution_count": null,
   "metadata": {
    "id": "NZl0SZmFTRQA"
   },
   "outputs": [],
   "source": [
    "# get predictions for test data\n",
    "with torch.no_grad():\n",
    "  preds = model(test_seq.to(device), test_mask.to(device))\n",
    "  preds = preds.detach().cpu().numpy()"
   ]
  },
  {
   "cell_type": "code",
   "execution_count": null,
   "metadata": {
    "colab": {
     "base_uri": "https://localhost:8080/"
    },
    "id": "Ms1ObHZxTYSI",
    "outputId": "1ef49b1a-c8ac-4cf5-bc35-91979057214a"
   },
   "outputs": [
    {
     "name": "stdout",
     "output_type": "stream",
     "text": [
      "              precision    recall  f1-score   support\n",
      "\n",
      "           0       0.98      0.93      0.95      2311\n",
      "           1       0.77      0.91      0.84       609\n",
      "\n",
      "    accuracy                           0.93      2920\n",
      "   macro avg       0.87      0.92      0.89      2920\n",
      "weighted avg       0.93      0.93      0.93      2920\n",
      "\n"
     ]
    }
   ],
   "source": [
    "# model's performance\n",
    "preds = np.argmax(preds, axis = 1)\n",
    "print(classification_report(test_y, preds))"
   ]
  },
  {
   "cell_type": "code",
   "execution_count": null,
   "metadata": {
    "colab": {
     "base_uri": "https://localhost:8080/"
    },
    "id": "9cd3oM0XED0P",
    "outputId": "c2448268-fdcd-47fa-b76b-5a97343c22e3"
   },
   "outputs": [
    {
     "data": {
      "text/plain": [
       "array([1, 0, 0, ..., 0, 0, 0])"
      ]
     },
     "execution_count": 118,
     "metadata": {
      "tags": []
     },
     "output_type": "execute_result"
    }
   ],
   "source": [
    "preds"
   ]
  },
  {
   "cell_type": "code",
   "execution_count": null,
   "metadata": {
    "colab": {
     "base_uri": "https://localhost:8080/",
     "height": 142
    },
    "id": "YqzLS7rHTp4T",
    "outputId": "b92b68b0-4f65-4fc3-92ff-72707b38e4b5"
   },
   "outputs": [
    {
     "data": {
      "text/html": [
       "<div>\n",
       "<style scoped>\n",
       "    .dataframe tbody tr th:only-of-type {\n",
       "        vertical-align: middle;\n",
       "    }\n",
       "\n",
       "    .dataframe tbody tr th {\n",
       "        vertical-align: top;\n",
       "    }\n",
       "\n",
       "    .dataframe thead th {\n",
       "        text-align: right;\n",
       "    }\n",
       "</style>\n",
       "<table border=\"1\" class=\"dataframe\">\n",
       "  <thead>\n",
       "    <tr style=\"text-align: right;\">\n",
       "      <th>col_0</th>\n",
       "      <th>0</th>\n",
       "      <th>1</th>\n",
       "    </tr>\n",
       "    <tr>\n",
       "      <th>row_0</th>\n",
       "      <th></th>\n",
       "      <th></th>\n",
       "    </tr>\n",
       "  </thead>\n",
       "  <tbody>\n",
       "    <tr>\n",
       "      <th>0</th>\n",
       "      <td>2166</td>\n",
       "      <td>145</td>\n",
       "    </tr>\n",
       "    <tr>\n",
       "      <th>1</th>\n",
       "      <td>66</td>\n",
       "      <td>543</td>\n",
       "    </tr>\n",
       "  </tbody>\n",
       "</table>\n",
       "</div>"
      ],
      "text/plain": [
       "col_0     0    1\n",
       "row_0           \n",
       "0      2166  145\n",
       "1        66  543"
      ]
     },
     "execution_count": 119,
     "metadata": {
      "tags": []
     },
     "output_type": "execute_result"
    }
   ],
   "source": [
    "# confusion matrix\n",
    "pd.crosstab(test_y, preds)"
   ]
  },
  {
   "cell_type": "markdown",
   "metadata": {
    "id": "q2bxF55lDkvv"
   },
   "source": [
    "## Test"
   ]
  },
  {
   "cell_type": "code",
   "execution_count": null,
   "metadata": {
    "colab": {
     "base_uri": "https://localhost:8080/",
     "height": 419
    },
    "id": "Zp3FqwEvDyjv",
    "outputId": "9edc40f1-3193-4b0b-f130-8b4069ae5348"
   },
   "outputs": [
    {
     "data": {
      "text/html": [
       "<div>\n",
       "<style scoped>\n",
       "    .dataframe tbody tr th:only-of-type {\n",
       "        vertical-align: middle;\n",
       "    }\n",
       "\n",
       "    .dataframe tbody tr th {\n",
       "        vertical-align: top;\n",
       "    }\n",
       "\n",
       "    .dataframe thead th {\n",
       "        text-align: right;\n",
       "    }\n",
       "</style>\n",
       "<table border=\"1\" class=\"dataframe\">\n",
       "  <thead>\n",
       "    <tr style=\"text-align: right;\">\n",
       "      <th></th>\n",
       "      <th>text</th>\n",
       "      <th>Majority_label</th>\n",
       "      <th>LabelModel_label</th>\n",
       "    </tr>\n",
       "  </thead>\n",
       "  <tbody>\n",
       "    <tr>\n",
       "      <th>0</th>\n",
       "      <td>ยืนยันหมายเลขนัดส่งสินค้า    xd</td>\n",
       "      <td>0</td>\n",
       "      <td>0</td>\n",
       "    </tr>\n",
       "    <tr>\n",
       "      <th>1</th>\n",
       "      <td>not read  re  cpf ขออนุญาติใช้โลโก้ ลงสื่อโปรโ...</td>\n",
       "      <td>-1</td>\n",
       "      <td>0</td>\n",
       "    </tr>\n",
       "    <tr>\n",
       "      <th>2</th>\n",
       "      <td>product complaint  pure   แจ้งคืนสินค้ารั่วซ...</td>\n",
       "      <td>0</td>\n",
       "      <td>0</td>\n",
       "    </tr>\n",
       "    <tr>\n",
       "      <th>3</th>\n",
       "      <td>fwd  กิ่งใบ เอกสารเปิดหน้าบัญชี</td>\n",
       "      <td>0</td>\n",
       "      <td>0</td>\n",
       "    </tr>\n",
       "    <tr>\n",
       "      <th>4</th>\n",
       "      <td>ตอบกลับ  สอบถามมูลหนี้ค้างชำระ บ อินเอตร์ เอ็ก...</td>\n",
       "      <td>0</td>\n",
       "      <td>0</td>\n",
       "    </tr>\n",
       "    <tr>\n",
       "      <th>...</th>\n",
       "      <td>...</td>\n",
       "      <td>...</td>\n",
       "      <td>...</td>\n",
       "    </tr>\n",
       "    <tr>\n",
       "      <th>9676</th>\n",
       "      <td>acknowledge: นวลฉวี ทองใบ ขออนุมัติ ot วันที่ ...</td>\n",
       "      <td>0</td>\n",
       "      <td>0</td>\n",
       "    </tr>\n",
       "    <tr>\n",
       "      <th>9677</th>\n",
       "      <td>fwd: สมัครงานตำแหน่งเจ้าหน้าที่ธุรการขาย [from...</td>\n",
       "      <td>0</td>\n",
       "      <td>0</td>\n",
       "    </tr>\n",
       "    <tr>\n",
       "      <th>9678</th>\n",
       "      <td>acknowledge: วัง ปานทอง ขออนุมัติ ot วันที่ 04...</td>\n",
       "      <td>0</td>\n",
       "      <td>0</td>\n",
       "    </tr>\n",
       "    <tr>\n",
       "      <th>9679</th>\n",
       "      <td>chotika butprom ได้โพสต์รูปภาพ</td>\n",
       "      <td>0</td>\n",
       "      <td>0</td>\n",
       "    </tr>\n",
       "    <tr>\n",
       "      <th>9680</th>\n",
       "      <td>สอบถาราคาเช่าออฟฟิตรายเดือน</td>\n",
       "      <td>0</td>\n",
       "      <td>0</td>\n",
       "    </tr>\n",
       "  </tbody>\n",
       "</table>\n",
       "<p>9681 rows × 3 columns</p>\n",
       "</div>"
      ],
      "text/plain": [
       "                                                   text  ...  LabelModel_label\n",
       "0                    ยืนยันหมายเลขนัดส่งสินค้า    xd     ...                 0\n",
       "1     not read  re  cpf ขออนุญาติใช้โลโก้ ลงสื่อโปรโ...  ...                 0\n",
       "2       product complaint  pure   แจ้งคืนสินค้ารั่วซ...  ...                 0\n",
       "3                       fwd  กิ่งใบ เอกสารเปิดหน้าบัญชี  ...                 0\n",
       "4     ตอบกลับ  สอบถามมูลหนี้ค้างชำระ บ อินเอตร์ เอ็ก...  ...                 0\n",
       "...                                                 ...  ...               ...\n",
       "9676  acknowledge: นวลฉวี ทองใบ ขออนุมัติ ot วันที่ ...  ...                 0\n",
       "9677  fwd: สมัครงานตำแหน่งเจ้าหน้าที่ธุรการขาย [from...  ...                 0\n",
       "9678  acknowledge: วัง ปานทอง ขออนุมัติ ot วันที่ 04...  ...                 0\n",
       "9679                     chotika butprom ได้โพสต์รูปภาพ  ...                 0\n",
       "9680                        สอบถาราคาเช่าออฟฟิตรายเดือน  ...                 0\n",
       "\n",
       "[9681 rows x 3 columns]"
      ]
     },
     "execution_count": 120,
     "metadata": {
      "tags": []
     },
     "output_type": "execute_result"
    }
   ],
   "source": [
    "dt= pd.read_csv(\n",
    "    \"/content/drive/MyDrive/golden_label.csv\")\n",
    "dt"
   ]
  },
  {
   "cell_type": "code",
   "execution_count": null,
   "metadata": {
    "id": "jpX1uTwjUPY6"
   },
   "outputs": [],
   "source": [
    "dt1=dt.loc[dt['Majority_label']==-1]\n",
    "dt2=dt1[['text']]\n",
    "dt2.reset_index(inplace=True)\n",
    "dt3=dt2[['text']]\n",
    "dt3"
   ]
  },
  {
   "cell_type": "code",
   "execution_count": null,
   "metadata": {
    "colab": {
     "base_uri": "https://localhost:8080/",
     "height": 419
    },
    "id": "wWD_hID7D8g3",
    "outputId": "c2cb93af-a1ba-4f8e-8f4c-5475df878c60"
   },
   "outputs": [
    {
     "data": {
      "text/html": [
       "<div>\n",
       "<style scoped>\n",
       "    .dataframe tbody tr th:only-of-type {\n",
       "        vertical-align: middle;\n",
       "    }\n",
       "\n",
       "    .dataframe tbody tr th {\n",
       "        vertical-align: top;\n",
       "    }\n",
       "\n",
       "    .dataframe thead th {\n",
       "        text-align: right;\n",
       "    }\n",
       "</style>\n",
       "<table border=\"1\" class=\"dataframe\">\n",
       "  <thead>\n",
       "    <tr style=\"text-align: right;\">\n",
       "      <th></th>\n",
       "      <th>text</th>\n",
       "    </tr>\n",
       "  </thead>\n",
       "  <tbody>\n",
       "    <tr>\n",
       "      <th>0</th>\n",
       "      <td>not read  re  cpf ขออนุญาติใช้โลโก้ ลงสื่อโปรโ...</td>\n",
       "    </tr>\n",
       "    <tr>\n",
       "      <th>1</th>\n",
       "      <td>accepted  task plan network and vps server ของ...</td>\n",
       "    </tr>\n",
       "    <tr>\n",
       "      <th>2</th>\n",
       "      <td>นำส่งโปรโมชั่น bro line add  by karmarts</td>\n",
       "    </tr>\n",
       "    <tr>\n",
       "      <th>3</th>\n",
       "      <td>accepted  ขอนัดประชุม migrate ระบบ ksc และ kes...</td>\n",
       "    </tr>\n",
       "    <tr>\n",
       "      <th>4</th>\n",
       "      <td>fwd  เทพผดุงพรมะพร้าว    ขอทำโปรโมชั่นวุ้นมะพร...</td>\n",
       "    </tr>\n",
       "    <tr>\n",
       "      <th>...</th>\n",
       "      <td>...</td>\n",
       "    </tr>\n",
       "    <tr>\n",
       "      <th>122</th>\n",
       "      <td>invitation: ส.ขอนแก่น x dgtl8 : mkt optimisati...</td>\n",
       "    </tr>\n",
       "    <tr>\n",
       "      <th>123</th>\n",
       "      <td>ฉลองวันสตรีสากล รับส่วนลดเพิ่มสูงถึง 50%</td>\n",
       "    </tr>\n",
       "    <tr>\n",
       "      <th>124</th>\n",
       "      <td>เรียนเชิญรับชมบทเรียนออนไลน์ในหัวข้อ microsoft...</td>\n",
       "    </tr>\n",
       "    <tr>\n",
       "      <th>125</th>\n",
       "      <td>สินค้า หมูดี หมูหยอง กรอบอร่อย พกพาสะดวก ขนาด ...</td>\n",
       "    </tr>\n",
       "    <tr>\n",
       "      <th>126</th>\n",
       "      <td>not read: re: po ข้าวต้มหมู+ต้มแซ่บหมู (ส.ขอนแ...</td>\n",
       "    </tr>\n",
       "  </tbody>\n",
       "</table>\n",
       "<p>127 rows × 1 columns</p>\n",
       "</div>"
      ],
      "text/plain": [
       "                                                  text\n",
       "0    not read  re  cpf ขออนุญาติใช้โลโก้ ลงสื่อโปรโ...\n",
       "1    accepted  task plan network and vps server ของ...\n",
       "2            นำส่งโปรโมชั่น bro line add  by karmarts \n",
       "3    accepted  ขอนัดประชุม migrate ระบบ ksc และ kes...\n",
       "4    fwd  เทพผดุงพรมะพร้าว    ขอทำโปรโมชั่นวุ้นมะพร...\n",
       "..                                                 ...\n",
       "122  invitation: ส.ขอนแก่น x dgtl8 : mkt optimisati...\n",
       "123           ฉลองวันสตรีสากล รับส่วนลดเพิ่มสูงถึง 50%\n",
       "124  เรียนเชิญรับชมบทเรียนออนไลน์ในหัวข้อ microsoft...\n",
       "125  สินค้า หมูดี หมูหยอง กรอบอร่อย พกพาสะดวก ขนาด ...\n",
       "126  not read: re: po ข้าวต้มหมู+ต้มแซ่บหมู (ส.ขอนแ...\n",
       "\n",
       "[127 rows x 1 columns]"
      ]
     },
     "execution_count": 122,
     "metadata": {
      "tags": []
     },
     "output_type": "execute_result"
    }
   ],
   "source": [
    "dt3=dt2[['text']]\n",
    "dt3"
   ]
  },
  {
   "cell_type": "code",
   "execution_count": null,
   "metadata": {
    "id": "yGix5S2HKVw_"
   },
   "outputs": [],
   "source": [
    "# tokenize and encode sequences in the test set\n",
    "tokens_test1 = tokenizer.batch_encode_plus(dt3.text.tolist(),\n",
    "    max_length = max_seq_len,\n",
    "    pad_to_max_length=True,\n",
    "    truncation=True,\n",
    "    return_token_type_ids=False)\n",
    "# for test set\n",
    "test_seq = torch.tensor(tokens_test1['input_ids'])\n",
    "test_mask = torch.tensor(tokens_test1['attention_mask'])\n",
    "# get predictions for test data\n",
    "with torch.no_grad():\n",
    "  preds = model(test_seq.to(device), test_mask.to(device))\n",
    "  preds = preds.detach().cpu().numpy()"
   ]
  },
  {
   "cell_type": "code",
   "execution_count": null,
   "metadata": {
    "colab": {
     "base_uri": "https://localhost:8080/"
    },
    "id": "TmPH3qceMeIE",
    "outputId": "97e180b3-70ae-48f2-a704-fecbe1a1497f"
   },
   "outputs": [
    {
     "data": {
      "text/plain": [
       "array([[-6.8090078e-03, -4.9929032e+00],\n",
       "       [-8.4747636e-01, -5.5948192e-01],\n",
       "       [-8.7798968e-02, -2.4762843e+00],\n",
       "       [-1.3736362e-02, -4.2945647e+00],\n",
       "       [-1.8072579e-02, -4.0223832e+00],\n",
       "       [-2.0912462e-03, -6.1710253e+00],\n",
       "       [-4.3420563e-03, -5.4415784e+00],\n",
       "       [-2.1327091e-02, -3.8584218e+00],\n",
       "       [-1.2547596e-02, -4.3844934e+00],\n",
       "       [-7.7252328e-02, -2.5990551e+00],\n",
       "       [-3.7239506e-03, -5.5948191e+00],\n",
       "       [-2.3515388e-02, -3.7618361e+00],\n",
       "       [-2.6521054e-03, -5.9337339e+00],\n",
       "       [-3.3935621e-02, -3.4002082e+00],\n",
       "       [-1.3971617e-02, -4.2777085e+00],\n",
       "       [-4.7324793e-03, -5.3556833e+00],\n",
       "       [-2.4005870e-04, -8.3348885e+00],\n",
       "       [-1.6632546e-03, -6.3997936e+00],\n",
       "       [-1.2830209e-02, -4.3623605e+00],\n",
       "       [-1.0259981e-02, -4.5846329e+00],\n",
       "       [-1.7568916e-02, -4.0503936e+00],\n",
       "       [-7.0380867e-03, -4.9599438e+00],\n",
       "       [-1.3793726e-03, -6.5867872e+00],\n",
       "       [-1.5568528e-03, -6.4659009e+00],\n",
       "       [-1.2023357e-02, -4.4269109e+00],\n",
       "       [-5.0399639e-03, -5.2928858e+00],\n",
       "       [-8.3978906e-02, -2.5188854e+00],\n",
       "       [-3.8602200e-01, -1.1386708e+00],\n",
       "       [-7.6963799e-03, -4.8708510e+00],\n",
       "       [-4.3155906e-01, -1.0483824e+00],\n",
       "       [-4.0689771e-04, -7.8071694e+00],\n",
       "       [-6.4924138e-04, -7.3400393e+00],\n",
       "       [-7.4918807e-04, -7.1968775e+00],\n",
       "       [-2.4220198e-03, -6.0243649e+00],\n",
       "       [-1.1144625e-03, -6.7999196e+00],\n",
       "       [-4.9222329e-01, -9.4485962e-01],\n",
       "       [-4.7672351e-04, -7.6487284e+00],\n",
       "       [-3.0515873e-01, -1.3356253e+00],\n",
       "       [-1.3030618e-03, -6.6436567e+00],\n",
       "       [-7.1545588e-03, -4.9435735e+00],\n",
       "       [-1.1012448e-03, -6.8118663e+00],\n",
       "       [-3.0236975e-03, -5.8027997e+00],\n",
       "       [-6.3933820e-01, -7.5001711e-01],\n",
       "       [-7.5421989e-02, -2.6221302e+00],\n",
       "       [-1.7100507e-02, -4.0771847e+00],\n",
       "       [-5.6143734e-04, -7.4853878e+00],\n",
       "       [-1.2023357e-02, -4.4269109e+00],\n",
       "       [-4.6014902e-01, -9.9747252e-01],\n",
       "       [-1.2703214e-03, -6.6691504e+00],\n",
       "       [-9.4316853e-03, -4.6683893e+00],\n",
       "       [-1.5501876e-03, -6.4701915e+00],\n",
       "       [-1.9476508e-03, -6.2420812e+00],\n",
       "       [-8.0231420e-04, -7.1284680e+00],\n",
       "       [-2.7940733e-02, -3.5916080e+00],\n",
       "       [-1.2023357e-02, -4.4269109e+00],\n",
       "       [-4.2451983e-03, -5.4640827e+00],\n",
       "       [-1.7976091e-03, -6.3221979e+00],\n",
       "       [-1.6235285e-02, -4.1286755e+00],\n",
       "       [-3.2717598e-04, -8.0250158e+00],\n",
       "       [-1.3892533e-03, -6.5796905e+00],\n",
       "       [-4.4569443e-03, -5.4155273e+00],\n",
       "       [-4.4569443e-03, -5.4155273e+00],\n",
       "       [-1.5367377e-03, -6.4788737e+00],\n",
       "       [-1.2967520e-03, -6.6485152e+00],\n",
       "       [-8.2641028e-02, -2.5342858e+00],\n",
       "       [-3.4814971e-04, -7.9629602e+00],\n",
       "       [-2.7628895e-04, -8.1942158e+00],\n",
       "       [-4.8482584e-04, -7.6319928e+00],\n",
       "       [-3.4826889e-04, -7.9626732e+00],\n",
       "       [-8.0106151e-01, -5.9575248e-01],\n",
       "       [-3.0339186e-03, -5.7994194e+00],\n",
       "       [-3.0956134e-02, -3.4906228e+00],\n",
       "       [-1.5101274e-02, -4.2005167e+00],\n",
       "       [-1.6040020e-01, -1.9092116e+00],\n",
       "       [-2.7292643e-03, -5.9050717e+00],\n",
       "       [-1.7703589e-03, -6.3374276e+00],\n",
       "       [-3.8818151e-02, -3.2682145e+00],\n",
       "       [-6.0113430e-01, -7.9449248e-01],\n",
       "       [-2.3513991e-02, -3.7618940e+00],\n",
       "       [-3.5584955e-03, -5.6401849e+00],\n",
       "       [-7.3370239e-04, -7.2178297e+00],\n",
       "       [-4.5790579e-03, -5.3885589e+00],\n",
       "       [-1.1682836e-03, -6.7528067e+00],\n",
       "       [-3.2393860e-03, -5.7339911e+00],\n",
       "       [-2.8840482e-02, -3.5603609e+00],\n",
       "       [-1.2288691e-02, -4.4052105e+00],\n",
       "       [-2.0248491e-02, -3.9097826e+00],\n",
       "       [-6.4030387e-02, -2.7802417e+00],\n",
       "       [-3.5584955e-03, -5.6401849e+00],\n",
       "       [-5.9330538e-03, -5.1301904e+00],\n",
       "       [-1.9634956e+00, -1.5124956e-01],\n",
       "       [-5.0452895e-02, -3.0118346e+00],\n",
       "       [-7.4534900e-03, -4.9027963e+00],\n",
       "       [-1.1813812e-03, -6.7416258e+00],\n",
       "       [-2.6032418e-02, -3.6614008e+00],\n",
       "       [-3.4733226e-03, -5.6643791e+00],\n",
       "       [-5.6096438e-02, -2.9086003e+00],\n",
       "       [-8.2077479e-01, -5.7998025e-01],\n",
       "       [-6.1225258e-02, -2.8236525e+00],\n",
       "       [-4.9045648e-02, -3.0394261e+00],\n",
       "       [-4.6206763e-04, -7.6801238e+00],\n",
       "       [-3.4405772e-02, -3.3866844e+00],\n",
       "       [-1.9682223e-02, -3.9378617e+00],\n",
       "       [-2.8125988e-03, -5.8750429e+00],\n",
       "       [-2.4788548e-01, -1.5161719e+00],\n",
       "       [-3.0443193e-02, -3.5070748e+00],\n",
       "       [-1.6734580e-02, -4.0986333e+00],\n",
       "       [-1.2646441e+00, -3.3175901e-01],\n",
       "       [-7.6904651e-03, -4.8716097e+00],\n",
       "       [-4.9496155e-02, -3.0305052e+00],\n",
       "       [-3.3721420e-01, -1.2509104e+00],\n",
       "       [-2.6183391e-03, -5.9465451e+00],\n",
       "       [-3.2146731e-01, -1.2912909e+00],\n",
       "       [-1.3140391e-02, -4.3386297e+00],\n",
       "       [-1.2023357e-02, -4.4269109e+00],\n",
       "       [-2.6746988e-04, -8.2265205e+00],\n",
       "       [-1.3591371e-02, -4.3051124e+00],\n",
       "       [-6.5913643e-03, -5.0252919e+00],\n",
       "       [-1.9828204e-02, -3.9305503e+00],\n",
       "       [-1.2023357e-02, -4.4269109e+00],\n",
       "       [-1.2348272e-02, -4.4004083e+00],\n",
       "       [-4.5029324e-02, -3.1228707e+00],\n",
       "       [-5.0452895e-02, -3.0118346e+00],\n",
       "       [-1.7619397e-02, -4.0475507e+00],\n",
       "       [-2.2228494e-02, -3.8174751e+00],\n",
       "       [-3.8389943e-04, -7.8652883e+00],\n",
       "       [-1.2724165e-02, -4.3706112e+00]], dtype=float32)"
      ]
     },
     "execution_count": 126,
     "metadata": {
      "tags": []
     },
     "output_type": "execute_result"
    }
   ],
   "source": [
    "preds"
   ]
  },
  {
   "cell_type": "code",
   "execution_count": null,
   "metadata": {
    "id": "xuDL6HJuMfO-"
   },
   "outputs": [],
   "source": [
    "prediction = np.argmax(preds, axis = 1)"
   ]
  },
  {
   "cell_type": "code",
   "execution_count": null,
   "metadata": {
    "colab": {
     "base_uri": "https://localhost:8080/"
    },
    "id": "8RKs51IVMm7y",
    "outputId": "0ee482be-840a-4884-ed3b-05bd05e09a77"
   },
   "outputs": [
    {
     "data": {
      "text/plain": [
       "array([0, 1, 0, 0, 0, 0, 0, 0, 0, 0, 0, 0, 0, 0, 0, 0, 0, 0, 0, 0, 0, 0,\n",
       "       0, 0, 0, 0, 0, 0, 0, 0, 0, 0, 0, 0, 0, 0, 0, 0, 0, 0, 0, 0, 0, 0,\n",
       "       0, 0, 0, 0, 0, 0, 0, 0, 0, 0, 0, 0, 0, 0, 0, 0, 0, 0, 0, 0, 0, 0,\n",
       "       0, 0, 0, 1, 0, 0, 0, 0, 0, 0, 0, 0, 0, 0, 0, 0, 0, 0, 0, 0, 0, 0,\n",
       "       0, 0, 1, 0, 0, 0, 0, 0, 0, 1, 0, 0, 0, 0, 0, 0, 0, 0, 0, 1, 0, 0,\n",
       "       0, 0, 0, 0, 0, 0, 0, 0, 0, 0, 0, 0, 0, 0, 0, 0, 0])"
      ]
     },
     "execution_count": 128,
     "metadata": {
      "tags": []
     },
     "output_type": "execute_result"
    }
   ],
   "source": [
    "prediction"
   ]
  },
  {
   "cell_type": "code",
   "execution_count": null,
   "metadata": {
    "id": "2JAGCHCoM8RJ"
   },
   "outputs": [],
   "source": []
  }
 ],
 "metadata": {
  "accelerator": "GPU",
  "colab": {
   "collapsed_sections": [],
   "name": "Fine_Tuning_BERT_for_Spam_Classification_train_final.ipynb",
   "provenance": [],
   "toc_visible": true
  },
  "kernelspec": {
   "display_name": "conda_python3",
   "language": "python",
   "name": "conda_python3"
  },
  "language_info": {
   "codemirror_mode": {
    "name": "ipython",
    "version": 3
   },
   "file_extension": ".py",
   "mimetype": "text/x-python",
   "name": "python",
   "nbconvert_exporter": "python",
   "pygments_lexer": "ipython3",
   "version": "3.6.13"
  },
  "widgets": {
   "application/vnd.jupyter.widget-state+json": {
    "25e11fb0263643ad8ee2f69c9f113882": {
     "model_module": "@jupyter-widgets/controls",
     "model_name": "HTMLModel",
     "state": {
      "_dom_classes": [],
      "_model_module": "@jupyter-widgets/controls",
      "_model_module_version": "1.5.0",
      "_model_name": "HTMLModel",
      "_view_count": null,
      "_view_module": "@jupyter-widgets/controls",
      "_view_module_version": "1.5.0",
      "_view_name": "HTMLView",
      "description": "",
      "description_tooltip": null,
      "layout": "IPY_MODEL_4f9aa0cc80c64408983a31883130f5f1",
      "placeholder": "​",
      "style": "IPY_MODEL_51524f2fcce047beb93ee9e94adc7bee",
      "value": " 433/433 [00:00&lt;00:00, 1.46kB/s]"
     }
    },
    "3f4931c9985e4512a29a4d795786ef8b": {
     "model_module": "@jupyter-widgets/base",
     "model_name": "LayoutModel",
     "state": {
      "_model_module": "@jupyter-widgets/base",
      "_model_module_version": "1.2.0",
      "_model_name": "LayoutModel",
      "_view_count": null,
      "_view_module": "@jupyter-widgets/base",
      "_view_module_version": "1.2.0",
      "_view_name": "LayoutView",
      "align_content": null,
      "align_items": null,
      "align_self": null,
      "border": null,
      "bottom": null,
      "display": null,
      "flex": null,
      "flex_flow": null,
      "grid_area": null,
      "grid_auto_columns": null,
      "grid_auto_flow": null,
      "grid_auto_rows": null,
      "grid_column": null,
      "grid_gap": null,
      "grid_row": null,
      "grid_template_areas": null,
      "grid_template_columns": null,
      "grid_template_rows": null,
      "height": null,
      "justify_content": null,
      "justify_items": null,
      "left": null,
      "margin": null,
      "max_height": null,
      "max_width": null,
      "min_height": null,
      "min_width": null,
      "object_fit": null,
      "object_position": null,
      "order": null,
      "overflow": null,
      "overflow_x": null,
      "overflow_y": null,
      "padding": null,
      "right": null,
      "top": null,
      "visibility": null,
      "width": null
     }
    },
    "41cef8c5313a4198906ebb8180e6a35d": {
     "model_module": "@jupyter-widgets/base",
     "model_name": "LayoutModel",
     "state": {
      "_model_module": "@jupyter-widgets/base",
      "_model_module_version": "1.2.0",
      "_model_name": "LayoutModel",
      "_view_count": null,
      "_view_module": "@jupyter-widgets/base",
      "_view_module_version": "1.2.0",
      "_view_name": "LayoutView",
      "align_content": null,
      "align_items": null,
      "align_self": null,
      "border": null,
      "bottom": null,
      "display": null,
      "flex": null,
      "flex_flow": null,
      "grid_area": null,
      "grid_auto_columns": null,
      "grid_auto_flow": null,
      "grid_auto_rows": null,
      "grid_column": null,
      "grid_gap": null,
      "grid_row": null,
      "grid_template_areas": null,
      "grid_template_columns": null,
      "grid_template_rows": null,
      "height": null,
      "justify_content": null,
      "justify_items": null,
      "left": null,
      "margin": null,
      "max_height": null,
      "max_width": null,
      "min_height": null,
      "min_width": null,
      "object_fit": null,
      "object_position": null,
      "order": null,
      "overflow": null,
      "overflow_x": null,
      "overflow_y": null,
      "padding": null,
      "right": null,
      "top": null,
      "visibility": null,
      "width": null
     }
    },
    "492427cc967c4d50bd5e21ddeed4414c": {
     "model_module": "@jupyter-widgets/base",
     "model_name": "LayoutModel",
     "state": {
      "_model_module": "@jupyter-widgets/base",
      "_model_module_version": "1.2.0",
      "_model_name": "LayoutModel",
      "_view_count": null,
      "_view_module": "@jupyter-widgets/base",
      "_view_module_version": "1.2.0",
      "_view_name": "LayoutView",
      "align_content": null,
      "align_items": null,
      "align_self": null,
      "border": null,
      "bottom": null,
      "display": null,
      "flex": null,
      "flex_flow": null,
      "grid_area": null,
      "grid_auto_columns": null,
      "grid_auto_flow": null,
      "grid_auto_rows": null,
      "grid_column": null,
      "grid_gap": null,
      "grid_row": null,
      "grid_template_areas": null,
      "grid_template_columns": null,
      "grid_template_rows": null,
      "height": null,
      "justify_content": null,
      "justify_items": null,
      "left": null,
      "margin": null,
      "max_height": null,
      "max_width": null,
      "min_height": null,
      "min_width": null,
      "object_fit": null,
      "object_position": null,
      "order": null,
      "overflow": null,
      "overflow_x": null,
      "overflow_y": null,
      "padding": null,
      "right": null,
      "top": null,
      "visibility": null,
      "width": null
     }
    },
    "4bab13dce0aa44d787b6656225e69b43": {
     "model_module": "@jupyter-widgets/base",
     "model_name": "LayoutModel",
     "state": {
      "_model_module": "@jupyter-widgets/base",
      "_model_module_version": "1.2.0",
      "_model_name": "LayoutModel",
      "_view_count": null,
      "_view_module": "@jupyter-widgets/base",
      "_view_module_version": "1.2.0",
      "_view_name": "LayoutView",
      "align_content": null,
      "align_items": null,
      "align_self": null,
      "border": null,
      "bottom": null,
      "display": null,
      "flex": null,
      "flex_flow": null,
      "grid_area": null,
      "grid_auto_columns": null,
      "grid_auto_flow": null,
      "grid_auto_rows": null,
      "grid_column": null,
      "grid_gap": null,
      "grid_row": null,
      "grid_template_areas": null,
      "grid_template_columns": null,
      "grid_template_rows": null,
      "height": null,
      "justify_content": null,
      "justify_items": null,
      "left": null,
      "margin": null,
      "max_height": null,
      "max_width": null,
      "min_height": null,
      "min_width": null,
      "object_fit": null,
      "object_position": null,
      "order": null,
      "overflow": null,
      "overflow_x": null,
      "overflow_y": null,
      "padding": null,
      "right": null,
      "top": null,
      "visibility": null,
      "width": null
     }
    },
    "4f9aa0cc80c64408983a31883130f5f1": {
     "model_module": "@jupyter-widgets/base",
     "model_name": "LayoutModel",
     "state": {
      "_model_module": "@jupyter-widgets/base",
      "_model_module_version": "1.2.0",
      "_model_name": "LayoutModel",
      "_view_count": null,
      "_view_module": "@jupyter-widgets/base",
      "_view_module_version": "1.2.0",
      "_view_name": "LayoutView",
      "align_content": null,
      "align_items": null,
      "align_self": null,
      "border": null,
      "bottom": null,
      "display": null,
      "flex": null,
      "flex_flow": null,
      "grid_area": null,
      "grid_auto_columns": null,
      "grid_auto_flow": null,
      "grid_auto_rows": null,
      "grid_column": null,
      "grid_gap": null,
      "grid_row": null,
      "grid_template_areas": null,
      "grid_template_columns": null,
      "grid_template_rows": null,
      "height": null,
      "justify_content": null,
      "justify_items": null,
      "left": null,
      "margin": null,
      "max_height": null,
      "max_width": null,
      "min_height": null,
      "min_width": null,
      "object_fit": null,
      "object_position": null,
      "order": null,
      "overflow": null,
      "overflow_x": null,
      "overflow_y": null,
      "padding": null,
      "right": null,
      "top": null,
      "visibility": null,
      "width": null
     }
    },
    "51524f2fcce047beb93ee9e94adc7bee": {
     "model_module": "@jupyter-widgets/controls",
     "model_name": "DescriptionStyleModel",
     "state": {
      "_model_module": "@jupyter-widgets/controls",
      "_model_module_version": "1.5.0",
      "_model_name": "DescriptionStyleModel",
      "_view_count": null,
      "_view_module": "@jupyter-widgets/base",
      "_view_module_version": "1.2.0",
      "_view_name": "StyleView",
      "description_width": ""
     }
    },
    "579505ca3fff49b88a3874f386cc5e2d": {
     "model_module": "@jupyter-widgets/controls",
     "model_name": "HBoxModel",
     "state": {
      "_dom_classes": [],
      "_model_module": "@jupyter-widgets/controls",
      "_model_module_version": "1.5.0",
      "_model_name": "HBoxModel",
      "_view_count": null,
      "_view_module": "@jupyter-widgets/controls",
      "_view_module_version": "1.5.0",
      "_view_name": "HBoxView",
      "box_style": "",
      "children": [
       "IPY_MODEL_f5e4d73f6077428f822b0a70b4f7e682",
       "IPY_MODEL_25e11fb0263643ad8ee2f69c9f113882"
      ],
      "layout": "IPY_MODEL_e2d48e48721f4abdababdd36a9d3fe1b"
     }
    },
    "5b1c9d8b893245cfa3f4d69dc8c2ca16": {
     "model_module": "@jupyter-widgets/controls",
     "model_name": "HTMLModel",
     "state": {
      "_dom_classes": [],
      "_model_module": "@jupyter-widgets/controls",
      "_model_module_version": "1.5.0",
      "_model_name": "HTMLModel",
      "_view_count": null,
      "_view_module": "@jupyter-widgets/controls",
      "_view_module_version": "1.5.0",
      "_view_name": "HTMLView",
      "description": "",
      "description_tooltip": null,
      "layout": "IPY_MODEL_41cef8c5313a4198906ebb8180e6a35d",
      "placeholder": "​",
      "style": "IPY_MODEL_fd321e90488b4e8da17ea2606e1f6f6c",
      "value": " 232k/232k [00:00&lt;00:00, 683kB/s]"
     }
    },
    "945d970f242749cbbd595591055364d6": {
     "model_module": "@jupyter-widgets/controls",
     "model_name": "HBoxModel",
     "state": {
      "_dom_classes": [],
      "_model_module": "@jupyter-widgets/controls",
      "_model_module_version": "1.5.0",
      "_model_name": "HBoxModel",
      "_view_count": null,
      "_view_module": "@jupyter-widgets/controls",
      "_view_module_version": "1.5.0",
      "_view_name": "HBoxView",
      "box_style": "",
      "children": [
       "IPY_MODEL_a535ae16ae744b2e83c3bc81307e46dc",
       "IPY_MODEL_f227be77fc4f492b9ee7fadc357d92f0"
      ],
      "layout": "IPY_MODEL_a2af3edfeb924b409261b422eb705084"
     }
    },
    "952df693ad6245828ddf26c969b9beb9": {
     "model_module": "@jupyter-widgets/controls",
     "model_name": "ProgressStyleModel",
     "state": {
      "_model_module": "@jupyter-widgets/controls",
      "_model_module_version": "1.5.0",
      "_model_name": "ProgressStyleModel",
      "_view_count": null,
      "_view_module": "@jupyter-widgets/base",
      "_view_module_version": "1.2.0",
      "_view_name": "StyleView",
      "bar_color": null,
      "description_width": "initial"
     }
    },
    "96b9c9f4332246789d1efd9408b11230": {
     "model_module": "@jupyter-widgets/controls",
     "model_name": "FloatProgressModel",
     "state": {
      "_dom_classes": [],
      "_model_module": "@jupyter-widgets/controls",
      "_model_module_version": "1.5.0",
      "_model_name": "FloatProgressModel",
      "_view_count": null,
      "_view_module": "@jupyter-widgets/controls",
      "_view_module_version": "1.5.0",
      "_view_name": "ProgressView",
      "bar_style": "success",
      "description": "Downloading: 100%",
      "description_tooltip": null,
      "layout": "IPY_MODEL_4bab13dce0aa44d787b6656225e69b43",
      "max": 231508,
      "min": 0,
      "orientation": "horizontal",
      "style": "IPY_MODEL_faa21fca733f406f8a09af7f728f59a0",
      "value": 231508
     }
    },
    "a2af3edfeb924b409261b422eb705084": {
     "model_module": "@jupyter-widgets/base",
     "model_name": "LayoutModel",
     "state": {
      "_model_module": "@jupyter-widgets/base",
      "_model_module_version": "1.2.0",
      "_model_name": "LayoutModel",
      "_view_count": null,
      "_view_module": "@jupyter-widgets/base",
      "_view_module_version": "1.2.0",
      "_view_name": "LayoutView",
      "align_content": null,
      "align_items": null,
      "align_self": null,
      "border": null,
      "bottom": null,
      "display": null,
      "flex": null,
      "flex_flow": null,
      "grid_area": null,
      "grid_auto_columns": null,
      "grid_auto_flow": null,
      "grid_auto_rows": null,
      "grid_column": null,
      "grid_gap": null,
      "grid_row": null,
      "grid_template_areas": null,
      "grid_template_columns": null,
      "grid_template_rows": null,
      "height": null,
      "justify_content": null,
      "justify_items": null,
      "left": null,
      "margin": null,
      "max_height": null,
      "max_width": null,
      "min_height": null,
      "min_width": null,
      "object_fit": null,
      "object_position": null,
      "order": null,
      "overflow": null,
      "overflow_x": null,
      "overflow_y": null,
      "padding": null,
      "right": null,
      "top": null,
      "visibility": null,
      "width": null
     }
    },
    "a36e42d6be2b497c959238ad17938c37": {
     "model_module": "@jupyter-widgets/controls",
     "model_name": "HBoxModel",
     "state": {
      "_dom_classes": [],
      "_model_module": "@jupyter-widgets/controls",
      "_model_module_version": "1.5.0",
      "_model_name": "HBoxModel",
      "_view_count": null,
      "_view_module": "@jupyter-widgets/controls",
      "_view_module_version": "1.5.0",
      "_view_name": "HBoxView",
      "box_style": "",
      "children": [
       "IPY_MODEL_96b9c9f4332246789d1efd9408b11230",
       "IPY_MODEL_5b1c9d8b893245cfa3f4d69dc8c2ca16"
      ],
      "layout": "IPY_MODEL_d03a15f8a135497babd06e8b578e89d2"
     }
    },
    "a535ae16ae744b2e83c3bc81307e46dc": {
     "model_module": "@jupyter-widgets/controls",
     "model_name": "FloatProgressModel",
     "state": {
      "_dom_classes": [],
      "_model_module": "@jupyter-widgets/controls",
      "_model_module_version": "1.5.0",
      "_model_name": "FloatProgressModel",
      "_view_count": null,
      "_view_module": "@jupyter-widgets/controls",
      "_view_module_version": "1.5.0",
      "_view_name": "ProgressView",
      "bar_style": "success",
      "description": "Downloading: 100%",
      "description_tooltip": null,
      "layout": "IPY_MODEL_b30a0d52fb2441e9b32c0691ebfdcef0",
      "max": 440473133,
      "min": 0,
      "orientation": "horizontal",
      "style": "IPY_MODEL_952df693ad6245828ddf26c969b9beb9",
      "value": 440473133
     }
    },
    "b30a0d52fb2441e9b32c0691ebfdcef0": {
     "model_module": "@jupyter-widgets/base",
     "model_name": "LayoutModel",
     "state": {
      "_model_module": "@jupyter-widgets/base",
      "_model_module_version": "1.2.0",
      "_model_name": "LayoutModel",
      "_view_count": null,
      "_view_module": "@jupyter-widgets/base",
      "_view_module_version": "1.2.0",
      "_view_name": "LayoutView",
      "align_content": null,
      "align_items": null,
      "align_self": null,
      "border": null,
      "bottom": null,
      "display": null,
      "flex": null,
      "flex_flow": null,
      "grid_area": null,
      "grid_auto_columns": null,
      "grid_auto_flow": null,
      "grid_auto_rows": null,
      "grid_column": null,
      "grid_gap": null,
      "grid_row": null,
      "grid_template_areas": null,
      "grid_template_columns": null,
      "grid_template_rows": null,
      "height": null,
      "justify_content": null,
      "justify_items": null,
      "left": null,
      "margin": null,
      "max_height": null,
      "max_width": null,
      "min_height": null,
      "min_width": null,
      "object_fit": null,
      "object_position": null,
      "order": null,
      "overflow": null,
      "overflow_x": null,
      "overflow_y": null,
      "padding": null,
      "right": null,
      "top": null,
      "visibility": null,
      "width": null
     }
    },
    "d03a15f8a135497babd06e8b578e89d2": {
     "model_module": "@jupyter-widgets/base",
     "model_name": "LayoutModel",
     "state": {
      "_model_module": "@jupyter-widgets/base",
      "_model_module_version": "1.2.0",
      "_model_name": "LayoutModel",
      "_view_count": null,
      "_view_module": "@jupyter-widgets/base",
      "_view_module_version": "1.2.0",
      "_view_name": "LayoutView",
      "align_content": null,
      "align_items": null,
      "align_self": null,
      "border": null,
      "bottom": null,
      "display": null,
      "flex": null,
      "flex_flow": null,
      "grid_area": null,
      "grid_auto_columns": null,
      "grid_auto_flow": null,
      "grid_auto_rows": null,
      "grid_column": null,
      "grid_gap": null,
      "grid_row": null,
      "grid_template_areas": null,
      "grid_template_columns": null,
      "grid_template_rows": null,
      "height": null,
      "justify_content": null,
      "justify_items": null,
      "left": null,
      "margin": null,
      "max_height": null,
      "max_width": null,
      "min_height": null,
      "min_width": null,
      "object_fit": null,
      "object_position": null,
      "order": null,
      "overflow": null,
      "overflow_x": null,
      "overflow_y": null,
      "padding": null,
      "right": null,
      "top": null,
      "visibility": null,
      "width": null
     }
    },
    "d437a483c20b4bfba79005c1f893c3f3": {
     "model_module": "@jupyter-widgets/controls",
     "model_name": "DescriptionStyleModel",
     "state": {
      "_model_module": "@jupyter-widgets/controls",
      "_model_module_version": "1.5.0",
      "_model_name": "DescriptionStyleModel",
      "_view_count": null,
      "_view_module": "@jupyter-widgets/base",
      "_view_module_version": "1.2.0",
      "_view_name": "StyleView",
      "description_width": ""
     }
    },
    "e2d48e48721f4abdababdd36a9d3fe1b": {
     "model_module": "@jupyter-widgets/base",
     "model_name": "LayoutModel",
     "state": {
      "_model_module": "@jupyter-widgets/base",
      "_model_module_version": "1.2.0",
      "_model_name": "LayoutModel",
      "_view_count": null,
      "_view_module": "@jupyter-widgets/base",
      "_view_module_version": "1.2.0",
      "_view_name": "LayoutView",
      "align_content": null,
      "align_items": null,
      "align_self": null,
      "border": null,
      "bottom": null,
      "display": null,
      "flex": null,
      "flex_flow": null,
      "grid_area": null,
      "grid_auto_columns": null,
      "grid_auto_flow": null,
      "grid_auto_rows": null,
      "grid_column": null,
      "grid_gap": null,
      "grid_row": null,
      "grid_template_areas": null,
      "grid_template_columns": null,
      "grid_template_rows": null,
      "height": null,
      "justify_content": null,
      "justify_items": null,
      "left": null,
      "margin": null,
      "max_height": null,
      "max_width": null,
      "min_height": null,
      "min_width": null,
      "object_fit": null,
      "object_position": null,
      "order": null,
      "overflow": null,
      "overflow_x": null,
      "overflow_y": null,
      "padding": null,
      "right": null,
      "top": null,
      "visibility": null,
      "width": null
     }
    },
    "f227be77fc4f492b9ee7fadc357d92f0": {
     "model_module": "@jupyter-widgets/controls",
     "model_name": "HTMLModel",
     "state": {
      "_dom_classes": [],
      "_model_module": "@jupyter-widgets/controls",
      "_model_module_version": "1.5.0",
      "_model_name": "HTMLModel",
      "_view_count": null,
      "_view_module": "@jupyter-widgets/controls",
      "_view_module_version": "1.5.0",
      "_view_name": "HTMLView",
      "description": "",
      "description_tooltip": null,
      "layout": "IPY_MODEL_3f4931c9985e4512a29a4d795786ef8b",
      "placeholder": "​",
      "style": "IPY_MODEL_d437a483c20b4bfba79005c1f893c3f3",
      "value": " 440M/440M [00:08&lt;00:00, 54.5MB/s]"
     }
    },
    "f5e4d73f6077428f822b0a70b4f7e682": {
     "model_module": "@jupyter-widgets/controls",
     "model_name": "FloatProgressModel",
     "state": {
      "_dom_classes": [],
      "_model_module": "@jupyter-widgets/controls",
      "_model_module_version": "1.5.0",
      "_model_name": "FloatProgressModel",
      "_view_count": null,
      "_view_module": "@jupyter-widgets/controls",
      "_view_module_version": "1.5.0",
      "_view_name": "ProgressView",
      "bar_style": "success",
      "description": "Downloading: 100%",
      "description_tooltip": null,
      "layout": "IPY_MODEL_492427cc967c4d50bd5e21ddeed4414c",
      "max": 433,
      "min": 0,
      "orientation": "horizontal",
      "style": "IPY_MODEL_f689dff5eb744f0a978de17805af08c3",
      "value": 433
     }
    },
    "f689dff5eb744f0a978de17805af08c3": {
     "model_module": "@jupyter-widgets/controls",
     "model_name": "ProgressStyleModel",
     "state": {
      "_model_module": "@jupyter-widgets/controls",
      "_model_module_version": "1.5.0",
      "_model_name": "ProgressStyleModel",
      "_view_count": null,
      "_view_module": "@jupyter-widgets/base",
      "_view_module_version": "1.2.0",
      "_view_name": "StyleView",
      "bar_color": null,
      "description_width": "initial"
     }
    },
    "faa21fca733f406f8a09af7f728f59a0": {
     "model_module": "@jupyter-widgets/controls",
     "model_name": "ProgressStyleModel",
     "state": {
      "_model_module": "@jupyter-widgets/controls",
      "_model_module_version": "1.5.0",
      "_model_name": "ProgressStyleModel",
      "_view_count": null,
      "_view_module": "@jupyter-widgets/base",
      "_view_module_version": "1.2.0",
      "_view_name": "StyleView",
      "bar_color": null,
      "description_width": "initial"
     }
    },
    "fd321e90488b4e8da17ea2606e1f6f6c": {
     "model_module": "@jupyter-widgets/controls",
     "model_name": "DescriptionStyleModel",
     "state": {
      "_model_module": "@jupyter-widgets/controls",
      "_model_module_version": "1.5.0",
      "_model_name": "DescriptionStyleModel",
      "_view_count": null,
      "_view_module": "@jupyter-widgets/base",
      "_view_module_version": "1.2.0",
      "_view_name": "StyleView",
      "description_width": ""
     }
    }
   }
  }
 },
 "nbformat": 4,
 "nbformat_minor": 1
}
